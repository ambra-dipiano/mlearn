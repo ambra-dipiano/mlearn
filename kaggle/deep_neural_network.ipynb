{
 "cells": [
  {
   "cell_type": "markdown",
   "metadata": {},
   "source": [
    "The key idea here is modularity, building up a complex network from simpler functional units. We've seen how a linear unit computes a linear function -- now we'll see how to combine and modify these single units to model more complex relationships.\n",
    "\n",
    "# Layers\n",
    "\n",
    "Neural networks typically organize their neurons into layers. When we collect together linear units having a common set of inputs we get a dense layer.\n",
    "\n",
    "<center><img src=\"https://i.imgur.com/2MA4iMV.png\" width=\"300\">\n",
    "\n",
    "<i>A dense layer of two linear units receiving two inputs and a bias.</center></i>\n",
    "\n",
    "You could think of each layer in a neural network as performing some kind of relatively simple transformation. Through a deep stack of layers, a neural network can transform its inputs in more and more complex ways. In a well-trained neural network, each layer is a transformation getting us a little bit closer to a solution.\n",
    "\n",
    "## Many Kinds of Layers\n",
    "\n",
    "A \"layer\" in Keras is a very general kind of thing. A layer can be, essentially, any kind of data transformation. Many layers, like the convolutional and recurrent layers, transform data through use of neurons and differ primarily in the pattern of connections they form. Others though are used for feature engineering or just simple arithmetic. There's a whole world of layers to discover -- check them out!\n",
    "\n",
    "# The Activation Function\n",
    "\n",
    "It turns out, however, that two dense layers with nothing in between are no better than a single dense layer by itself. Dense layers by themselves can never move us out of the world of lines and planes. What we need is something nonlinear. What we need are activation functions.\n",
    "\n",
    "<center><img src=\"https://i.imgur.com/OLSUEYT.png\" width=\"300\">\n",
    "\n",
    "<i>Without activation functions, neural networks can only learn linear relationships. In order to fit curves, we'll need to use activation functions.</center></i>\n",
    "\n",
    "An activation function is simply some function we apply to each of a layer's outputs (its activations). The most common is the rectifier function  𝑚𝑎𝑥(0,𝑥) .\n",
    "\n",
    "<center><img src=\"https://i.imgur.com/aeIyAlF.png\" width=\"300\"></center>\n",
    "\n",
    "The rectifier function has a graph that's a line with the negative part \"rectified\" to zero. Applying the function to the outputs of a neuron will put a bend in the data, moving us away from simple lines.\n",
    "\n",
    "When we attach the rectifier to a linear unit, we get a rectified linear unit or ReLU. (For this reason, it's common to call the rectifier function the \"ReLU function\".) Applying a ReLU activation to a linear unit means the output becomes <code>max(0, w * x + b)</code>, which we might draw in a diagram like:\n",
    "\n",
    "<center><img src=\"https://i.imgur.com/eFry7Yu.png\" width=\"300\">\n",
    "\n",
    "<i>A rectified linear unit.</center></i>\n",
    "\n",
    "# Stacking Dense Layers\n",
    "Now that we have some nonlinearity, let's see how we can stack layers to get complex data transformations.\n",
    "\n",
    "<center><img src=\"https://i.imgur.com/Y5iwFQZ.png\" width=\"500\">\n",
    "\n",
    "<i>A stack of dense layers makes a \"fully-connected\" network.</center></i>\n",
    "\n",
    "The layers before the output layer are sometimes called hidden since we never see their outputs directly.\n",
    "\n",
    "Now, notice that the final (output) layer is a linear unit (meaning, no activation function). That makes this network appropriate to a regression task, where we are trying to predict some arbitrary numeric value. Other tasks (like classification) might require an activation function on the output.\n",
    "\n",
    "# Building Sequential Models\n",
    "The Sequential model we've been using will connect together a list of layers in order from first to last: the first layer gets the input, the last layer produces the output. This creates the model in the figure above:"
   ]
  },
  {
   "cell_type": "code",
   "execution_count": 1,
   "metadata": {},
   "outputs": [
    {
     "name": "stderr",
     "output_type": "stream",
     "text": [
      "2022-04-09 21:22:20.988291: I tensorflow/core/platform/cpu_feature_guard.cc:151] This TensorFlow binary is optimized with oneAPI Deep Neural Network Library (oneDNN) to use the following CPU instructions in performance-critical operations:  SSE4.1 SSE4.2 AVX AVX2 FMA\n",
      "To enable them in other operations, rebuild TensorFlow with the appropriate compiler flags.\n"
     ]
    }
   ],
   "source": [
    "from tensorflow import keras\n",
    "from tensorflow.keras import layers\n",
    "\n",
    "model = keras.Sequential([\n",
    "    # the hidden ReLU layers\n",
    "    layers.Dense(units=4, activation='relu', input_shape=[2]),\n",
    "    layers.Dense(units=3, activation='relu'),\n",
    "    # the linear output layer \n",
    "    layers.Dense(units=1),\n",
    "])"
   ]
  },
  {
   "cell_type": "markdown",
   "metadata": {},
   "source": [
    "Be sure to pass all the layers together in a list, like [layer, layer, layer, ...], instead of as separate arguments. To add an activation function to a layer, just give its name in the activation argument."
   ]
  },
  {
   "cell_type": "code",
   "execution_count": null,
   "metadata": {},
   "outputs": [],
   "source": []
  }
 ],
 "metadata": {
  "interpreter": {
   "hash": "49102747a477ec872ce5c57af32e04f52205abcec8f436ba78cc541d2e49f433"
  },
  "kernelspec": {
   "display_name": "Python 3.10.2 ('mlearn')",
   "language": "python",
   "name": "python3"
  },
  "language_info": {
   "codemirror_mode": {
    "name": "ipython",
    "version": 3
   },
   "file_extension": ".py",
   "mimetype": "text/x-python",
   "name": "python",
   "nbconvert_exporter": "python",
   "pygments_lexer": "ipython3",
   "version": "3.10.2"
  },
  "orig_nbformat": 4
 },
 "nbformat": 4,
 "nbformat_minor": 2
}
