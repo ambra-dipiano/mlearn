{
 "cells": [
  {
   "cell_type": "markdown",
   "metadata": {},
   "source": [
    "# Basic Data Exploration (Kaggle Tutorial)"
   ]
  },
  {
   "cell_type": "markdown",
   "metadata": {},
   "source": [
    "The most important part of the Pandas library is the DataFrame. A DataFrame holds the type of data you might think of as a table. This is similar to a sheet in Excel, or a table in a SQL database.\n",
    "\n",
    "Pandas has powerful methods for most things you'll want to do with this type of data. As an example, we'll look at data about home prices in Melbourne, Australia. In the hands-on exercises, you will apply the same processes to a new dataset, which has home prices in Iowa.\n",
    "\n",
    "The example (Melbourne) data is at the file path: <code>$DATA/input/melbourne-housing-snapshot/melb_data.csv</code>. We load and explore the data with the following commands:"
   ]
  },
  {
   "cell_type": "code",
   "execution_count": null,
   "metadata": {},
   "outputs": [],
   "source": [
    "import pandas as pd\n",
    "import numpy as np\n",
    "from datetime import datetime\n",
    "\n",
    "filename = 'dataset/melbourne_housing/melb_data.csv'\n",
    "data = pd.read_csv(filename) \n",
    "\n",
    "# print a summary\n",
    "data.describe()"
   ]
  },
  {
   "cell_type": "markdown",
   "metadata": {},
   "source": [
    "## Interpreting Data Description\n",
    "\n",
    "The results show 8 numbers for each column in your original dataset. The first number, the count, shows how many rows have non-missing values. \n",
    "\n",
    "1. Missing values arise for many reasons. For example, the size of the 2nd bedroom wouldn't be collected when surveying a 1 bedroom house. We'll come back to the topic of missing data.\n",
    "\n",
    "2. The second value is the mean, which is the average. \n",
    "\n",
    "3. Under that, std is the standard deviation, which measures how numerically spread out the values are.\n",
    "\n",
    "To interpret the min, 25%, 50%, 75% and max values, imagine sorting each column from lowest to highest value. \n",
    "\n",
    "4. The first (smallest) value is the min. \n",
    "\n",
    "5. If you go a quarter way through the list, you'll find a number that is bigger than 25% of the values and smaller than 75% of the values. That is the 25% value (pronounced \"25th percentile\"). \n",
    "\n",
    "6. The 50th and 75th percentiles are defined analogously. \n",
    "\n",
    "7. The max is the largest number.\n",
    "\n",
    "## Exercise"
   ]
  },
  {
   "cell_type": "code",
   "execution_count": null,
   "metadata": {},
   "outputs": [],
   "source": [
    "# What is the average landsize (rounded to nearest integer)?\n",
    "avg_ls = np.round(data['Landsize'].mean()) \n",
    "avg_ls"
   ]
  },
  {
   "cell_type": "code",
   "execution_count": null,
   "metadata": {},
   "outputs": [],
   "source": [
    "# As of today, how old is the newest home (current year - the date in which it was built)\n",
    "newest = datetime.now().year - data['YearBuilt'].max()\n",
    "newest"
   ]
  }
 ],
 "metadata": {
  "interpreter": {
   "hash": "cdd11fd6dafb22728507bacb81e73a8fccdefb6e5ab546d23f0276d20752413e"
  },
  "kernelspec": {
   "display_name": "Python 3.7.3 64-bit ('scitools': conda)",
   "language": "python",
   "name": "python3"
  },
  "language_info": {
   "codemirror_mode": {
    "name": "ipython",
    "version": 3
   },
   "file_extension": ".py",
   "mimetype": "text/x-python",
   "name": "python",
   "nbconvert_exporter": "python",
   "pygments_lexer": "ipython3",
   "version": "3.10.2"
  },
  "orig_nbformat": 4
 },
 "nbformat": 4,
 "nbformat_minor": 2
}
