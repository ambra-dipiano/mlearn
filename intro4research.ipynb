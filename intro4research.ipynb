{
 "cells": [
  {
   "cell_type": "markdown",
   "metadata": {},
   "source": [
    "# Image classification example: cats vs dogs\n",
    "\n",
    "Learn how to use Keras and TensorFlow"
   ]
  },
  {
   "cell_type": "code",
   "execution_count": 1,
   "metadata": {},
   "outputs": [],
   "source": [
    "import tensorflow as tf\n",
    "from tensorflow import keras"
   ]
  },
  {
   "cell_type": "markdown",
   "metadata": {},
   "source": [
    "Learn about:\n",
    "\n",
    "- Tensors, variables, and gradients in TensorFlow\n",
    "- Creating layers by subclassing the Layer class\n",
    "- Writing low-level training loops\n",
    "- Tracking losses created by layers via the add_loss() method\n",
    "- Tracking metrics in a low-level training loop\n",
    "- Speeding up execution with a compiled tf.function\n",
    "- Executing layers in training or inference mode\n",
    "- The Keras Functional API\n",
    "\n",
    "## Tensors\n",
    "\n",
    "TensorFlow is an infrastructure layer for differentiable programming. At its heart, it's a framework for manipulating N-dimensional arrays (tensors), much like NumPy.\n",
    "\n",
    "However, there are three key differences between NumPy and TensorFlow:\n",
    "\n",
    "1. TensorFlow can leverage hardware accelerators such as GPUs and TPUs.\n",
    "2. TensorFlow can automatically compute the gradient of arbitrary differentiable tensor expressions.\n",
    "3. TensorFlow computation can be distributed to large numbers of devices on a single machine, and large number of machines (potentially with multiple devices each)."
   ]
  },
  {
   "cell_type": "code",
   "execution_count": 2,
   "metadata": {},
   "outputs": [
    {
     "name": "stderr",
     "output_type": "stream",
     "text": [
      "2022-03-27 17:16:16.917244: I tensorflow/core/platform/cpu_feature_guard.cc:151] This TensorFlow binary is optimized with oneAPI Deep Neural Network Library (oneDNN) to use the following CPU instructions in performance-critical operations:  SSE4.1 SSE4.2 AVX AVX2 FMA\n",
      "To enable them in other operations, rebuild TensorFlow with the appropriate compiler flags.\n"
     ]
    },
    {
     "data": {
      "text/plain": [
       "<tf.Tensor: shape=(2, 2), dtype=int32, numpy=\n",
       "array([[1, 0],\n",
       "       [0, 1]], dtype=int32)>"
      ]
     },
     "execution_count": 2,
     "metadata": {},
     "output_type": "execute_result"
    }
   ],
   "source": [
    "constant_tensor = tf.constant([[1, 0], [0, 1]])\n",
    "constant_tensor"
   ]
  },
  {
   "cell_type": "markdown",
   "metadata": {},
   "source": [
    "You can get the tensor's values as a Numpy nd-array."
   ]
  },
  {
   "cell_type": "code",
   "execution_count": 3,
   "metadata": {},
   "outputs": [
    {
     "data": {
      "text/plain": [
       "array([[1, 0],\n",
       "       [0, 1]], dtype=int32)"
      ]
     },
     "execution_count": 3,
     "metadata": {},
     "output_type": "execute_result"
    }
   ],
   "source": [
    "constant_tensor.numpy()"
   ]
  },
  {
   "cell_type": "markdown",
   "metadata": {},
   "source": [
    "Find its type and shape the same way of Numpy arrays."
   ]
  },
  {
   "cell_type": "code",
   "execution_count": 4,
   "metadata": {},
   "outputs": [
    {
     "name": "stdout",
     "output_type": "stream",
     "text": [
      "DType: <dtype: 'int32'>\n",
      "Shape: (2, 2)\n"
     ]
    }
   ],
   "source": [
    "print(f'DType: {constant_tensor.dtype}')\n",
    "print(f'Shape: {constant_tensor.shape}')"
   ]
  },
  {
   "cell_type": "markdown",
   "metadata": {},
   "source": [
    "Constant tensors of 1s and 0s."
   ]
  },
  {
   "cell_type": "code",
   "execution_count": 5,
   "metadata": {},
   "outputs": [
    {
     "data": {
      "text/plain": [
       "<tf.Tensor: shape=(3, 2), dtype=float32, numpy=\n",
       "array([[1., 1.],\n",
       "       [1., 1.],\n",
       "       [1., 1.]], dtype=float32)>"
      ]
     },
     "execution_count": 5,
     "metadata": {},
     "output_type": "execute_result"
    }
   ],
   "source": [
    "tf.ones(shape=(3, 2))\n"
   ]
  },
  {
   "cell_type": "code",
   "execution_count": 6,
   "metadata": {},
   "outputs": [
    {
     "data": {
      "text/plain": [
       "<tf.Tensor: shape=(2, 3), dtype=float32, numpy=\n",
       "array([[0., 0., 0.],\n",
       "       [0., 0., 0.]], dtype=float32)>"
      ]
     },
     "execution_count": 6,
     "metadata": {},
     "output_type": "execute_result"
    }
   ],
   "source": [
    "tf.zeros(shape=(2, 3))"
   ]
  },
  {
   "cell_type": "markdown",
   "metadata": {},
   "source": [
    "Random uniform tensor."
   ]
  },
  {
   "cell_type": "code",
   "execution_count": 7,
   "metadata": {},
   "outputs": [
    {
     "data": {
      "text/plain": [
       "<tf.Tensor: shape=(3, 1), dtype=float32, numpy=\n",
       "array([[0.22078836],\n",
       "       [0.7939428 ],\n",
       "       [0.27340877]], dtype=float32)>"
      ]
     },
     "execution_count": 7,
     "metadata": {},
     "output_type": "execute_result"
    }
   ],
   "source": [
    "tf.random.uniform(shape=(3, 1), minval=0., maxval=1.)"
   ]
  },
  {
   "cell_type": "markdown",
   "metadata": {},
   "source": [
    "Random from normal distribution."
   ]
  },
  {
   "cell_type": "code",
   "execution_count": 8,
   "metadata": {},
   "outputs": [
    {
     "data": {
      "text/plain": [
       "<tf.Tensor: shape=(1, 3), dtype=float32, numpy=array([[-0.7298222 ,  0.7450754 ,  0.06464498]], dtype=float32)>"
      ]
     },
     "execution_count": 8,
     "metadata": {},
     "output_type": "execute_result"
    }
   ],
   "source": [
    "tf.random.normal(shape=(1, 3), mean=0., stddev=1.)"
   ]
  },
  {
   "cell_type": "markdown",
   "metadata": {},
   "source": [
    "## Variables\n",
    "\n",
    "Variables are special tensors used to store mutable state (such as the weights of a neural network). You create a variable using some initial value."
   ]
  },
  {
   "cell_type": "code",
   "execution_count": 9,
   "metadata": {},
   "outputs": [
    {
     "name": "stdout",
     "output_type": "stream",
     "text": [
      "<tf.Variable 'Variable:0' shape=(1, 10) dtype=float32, numpy=\n",
      "array([[-0.6311023 ,  1.3034041 ,  0.40409243, -0.6539666 ,  2.9951575 ,\n",
      "        -0.33104387, -1.1689478 ,  1.346186  ,  0.17106554, -1.6727511 ]],\n",
      "      dtype=float32)>\n"
     ]
    }
   ],
   "source": [
    "gaussian_tensor = tf.random.normal(shape=(1, 10))\n",
    "variable = tf.Variable(gaussian_tensor)\n",
    "print(variable)"
   ]
  },
  {
   "cell_type": "markdown",
   "metadata": {},
   "source": [
    "To update a variable just use the <code>sub/add/assign</code> methods. Keep in mind that like arrays and matrixes the shape must be coherent to allow operations."
   ]
  },
  {
   "cell_type": "code",
   "execution_count": 10,
   "metadata": {},
   "outputs": [],
   "source": [
    "# assign new tensor to variable\n",
    "new_gaussian_tensor = tf.random.normal(shape=(1, 10))\n",
    "variable.assign(new_gaussian_tensor)\n",
    "# verify the assign operation is true\n",
    "for i in range(new_gaussian_tensor.shape[0]):\n",
    "    for j in range(new_gaussian_tensor.shape[1]):\n",
    "        assert new_gaussian_tensor[i, j] == new_gaussian_tensor[i, j]\n",
    "\n",
    "# add tensor to variable\n",
    "added_uniform_tensor = tf.random.uniform(shape=(1, 10))\n",
    "variable.assign_add(added_uniform_tensor)\n",
    "# verify the assign + add operation is true\n",
    "for i in range(new_gaussian_tensor.shape[0]):\n",
    "    for j in range(new_gaussian_tensor.shape[1]):\n",
    "        assert variable[i, j] == new_gaussian_tensor[i, j] + added_uniform_tensor[i, j]\n",
    "\n",
    "# subtract tensor to variable\n",
    "subbed_uniform_tensor = tf.random.uniform(shape=(1, 10))\n",
    "variable.assign_sub(subbed_uniform_tensor)\n",
    "# verify the assign + add + sub operation is true\n",
    "for i in range(new_gaussian_tensor.shape[0]):\n",
    "    for j in range(new_gaussian_tensor.shape[1]):\n",
    "        assert variable[i, j] == new_gaussian_tensor[i, j] + added_uniform_tensor[i, j] - subbed_uniform_tensor[i, j]"
   ]
  },
  {
   "cell_type": "markdown",
   "metadata": {},
   "source": [
    "## Doing math in TensorFlow\n",
    "\n",
    "If you've used NumPy, doing math in TensorFlow will look very familiar. The main difference is that your TensorFlow code can run on GPU and TPU."
   ]
  },
  {
   "cell_type": "code",
   "execution_count": 14,
   "metadata": {},
   "outputs": [
    {
     "data": {
      "text/plain": [
       "(<tf.Tensor: shape=(2, 2), dtype=float32, numpy=\n",
       " array([[-0.02320025, -2.023105  ],\n",
       "        [-0.6110183 , -0.7449284 ]], dtype=float32)>,\n",
       " <tf.Tensor: shape=(2, 2), dtype=float32, numpy=\n",
       " array([[ 0.24314761, -0.24281383],\n",
       "        [-0.07221237, -0.2045129 ]], dtype=float32)>,\n",
       " <tf.Tensor: shape=(2, 2), dtype=float32, numpy=\n",
       " array([[-0.01464563,  1.0084987 ],\n",
       "        [ 0.09203219,  0.1282732 ]], dtype=float32)>,\n",
       " <tf.Tensor: shape=(2, 2), dtype=float32, numpy=\n",
       " array([[-0.82578987,  1.27278   ],\n",
       "        [ 1.2680459 ,  1.7568728 ]], dtype=float32)>,\n",
       " <tf.Tensor: shape=(2, 2), dtype=float32, numpy=\n",
       " array([[5.3825165e-04, 4.0929537e+00],\n",
       "        [3.7334335e-01, 5.5491835e-01]], dtype=float32)>,\n",
       " <tf.Tensor: shape=(2, 2), dtype=float32, numpy=\n",
       " array([[0.97706676, 0.13224421],\n",
       "        [0.54279786, 0.47476828]], dtype=float32)>)"
      ]
     },
     "execution_count": 14,
     "metadata": {},
     "output_type": "execute_result"
    }
   ],
   "source": [
    "a = tf.random.normal(shape=(2, 2))\n",
    "b = tf.random.normal(shape=(2, 2))\n",
    "\n",
    "# sum\n",
    "c = a + b\n",
    "# subtraction\n",
    "d = a - b\n",
    "# moltiplication\n",
    "e = a * b\n",
    "# division\n",
    "f = a / b\n",
    "# square\n",
    "g = tf.square(c)\n",
    "# exponential\n",
    "h = tf.exp(c)\n",
    "\n",
    "c, d, e, f, g, h"
   ]
  },
  {
   "cell_type": "code",
   "execution_count": null,
   "metadata": {},
   "outputs": [],
   "source": []
  },
  {
   "cell_type": "code",
   "execution_count": null,
   "metadata": {},
   "outputs": [],
   "source": []
  },
  {
   "cell_type": "code",
   "execution_count": null,
   "metadata": {},
   "outputs": [],
   "source": []
  }
 ],
 "metadata": {
  "interpreter": {
   "hash": "49102747a477ec872ce5c57af32e04f52205abcec8f436ba78cc541d2e49f433"
  },
  "kernelspec": {
   "display_name": "mlearn",
   "language": "python",
   "name": "mlearn"
  },
  "language_info": {
   "codemirror_mode": {
    "name": "ipython",
    "version": 3
   },
   "file_extension": ".py",
   "mimetype": "text/x-python",
   "name": "python",
   "nbconvert_exporter": "python",
   "pygments_lexer": "ipython3",
   "version": "3.10.2"
  },
  "orig_nbformat": 4
 },
 "nbformat": 4,
 "nbformat_minor": 2
}
